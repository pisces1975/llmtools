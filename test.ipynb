{
 "cells": [
  {
   "cell_type": "code",
   "execution_count": 2,
   "metadata": {},
   "outputs": [],
   "source": [
    "import uuid\n",
    "from flask import Flask, request, jsonify\n",
    "from utilities import logger\n",
    "from flask_cors import CORS\n",
    "import sys\n",
    "from xinference.client import Client\n",
    "\n",
    "mylogger = logger.Logger(name='llmtool', debug=True).logger  \n",
    "# app = Flask(__name__)  \n",
    "# CORS(app)\n",
    "\n",
    "# 使用字典模拟用户存储，实际项目中应使用数据库\n",
    "users_db = {\n",
    "    \"admin\": {\"password\": \"123456\"},\n",
    "    'zz': {'password': 'zz'},\n",
    "    'xyz': {'password': 'abc'}\n",
    "}\n",
    "\n",
    "# 存储登录成功的用户session数据\n",
    "sessions = {}\n",
    "\n"
   ]
  },
  {
   "cell_type": "code",
   "execution_count": null,
   "metadata": {},
   "outputs": [],
   "source": [
    "x_addr = 'http://10.101.9.50:9998'\n",
    "mylogger.debug(f\"Start to connect xinference server at {x_addr}\")\n",
    "try:\n",
    "    client = Client(x_addr)    \n",
    "    model_uid = client.launch_model(model_name=\"bge-large-zh-v1.5\", model_type=\"embedding\")    \n",
    "    model = client.get_model(model_uid)\n",
    "except Exception as e:\n",
    "    mylogger.error(f\"Something goes wrong: {e}\")   \n",
    "def create_embedding_bge(sentence):\n",
    "    result = model.create_embedding(sentence)\n",
    "    embedding = result['data'][0]['embedding']\n",
    "    # LOG.debug(f\"length of embedding {len(embedding)}, {embedding[:5]}\")\n",
    "    return embedding"
   ]
  },
  {
   "cell_type": "code",
   "execution_count": 2,
   "metadata": {},
   "outputs": [],
   "source": [
    "vec = create_embedding_bge('test sentence')"
   ]
  },
  {
   "cell_type": "code",
   "execution_count": 7,
   "metadata": {},
   "outputs": [
    {
     "name": "stdout",
     "output_type": "stream",
     "text": [
      "\u001b[32m2024-03-22 23:14:21.290\u001b[0m | \u001b[34m\u001b[1mDEBUG   \u001b[0m | \u001b[36m__main__\u001b[0m:\u001b[36m<module>\u001b[0m:\u001b[36m16\u001b[0m - \u001b[34m\u001b[1mfloat_list 和 vec 相同\u001b[0m\n"
     ]
    }
   ],
   "source": [
    "import requests\n",
    "\n",
    "# 调用生成列表的服务\n",
    "question = '可以根据需要修改question参数'  # 可以根据需要修改question参数\n",
    "response = requests.post('http://127.0.0.1:5111/genvec', json={'question': question})\n",
    "vec = create_embedding_bge(question)\n",
    "if response.status_code == 200:\n",
    "    float_list = response.json()\n",
    "    # 假设 float_list 和 vec 是之前获取的列表\n",
    "# 检查类型是否都是 list\n",
    "    if isinstance(float_list, list) and isinstance(vec, list):\n",
    "        # 检查长度是否相同\n",
    "        if len(float_list) == len(vec):\n",
    "            # 逐个比较元素是否一致\n",
    "            if all(a == b for a, b in zip(float_list, vec)):\n",
    "                mylogger.debug(\"float_list 和 vec 相同\")\n",
    "            else:\n",
    "                mylogger.error(\"float_list 和 vec 不同\")\n",
    "        else:\n",
    "            mylogger.error(\"float_list 和 vec 长度不同\")\n",
    "    else:\n",
    "        mylogger.error(\"float_list 和 vec 不是列表类型\")\n",
    "        # 判断列表长度\n",
    "        mylogger.debug(f\"Length of the list: {len(float_list)}\")    \n",
    "    \n",
    "else:\n",
    "    mylogger.error(\"Failed to retrieve the list.\")"
   ]
  },
  {
   "cell_type": "code",
   "execution_count": 3,
   "metadata": {},
   "outputs": [
    {
     "name": "stdout",
     "output_type": "stream",
     "text": [
      "\u001b[32m2024-03-23 00:17:17.569\u001b[0m | \u001b[34m\u001b[1mDEBUG   \u001b[0m | \u001b[36m__main__\u001b[0m:\u001b[36m<module>\u001b[0m:\u001b[36m12\u001b[0m - \u001b[34m\u001b[1mSuccessfully connect mysql database\u001b[0m\n",
      "\u001b[32m2024-03-23 00:17:17.571\u001b[0m | \u001b[34m\u001b[1mDEBUG   \u001b[0m | \u001b[36m__main__\u001b[0m:\u001b[36m<module>\u001b[0m:\u001b[36m14\u001b[0m - \u001b[34m\u001b[1m{'host': '10.101.9.50', 'user': 'root', 'password': 'newpass', 'database': 'codebase'}\u001b[0m\n"
     ]
    }
   ],
   "source": [
    "import mysql.connector\n",
    "mysql_db_config = {\n",
    "    \"host\": \"10.101.9.50\",\n",
    "    \"user\": 'root',\n",
    "    \"password\": 'newpass',\n",
    "    \"database\": 'codebase'\n",
    "}\n",
    "\n",
    "db_connection = mysql.connector.connect(**mysql_db_config)\n",
    "db_cursor = db_connection.cursor()\n",
    "if db_connection.is_connected():\n",
    "    mylogger.debug(\"Successfully connect mysql database\")\n",
    "\n",
    "mylogger.debug(mysql_db_config)\n",
    "def execute_query(query, params=()):\n",
    "    db_cursor.execute(query, params)\n",
    "    if query.strip().startswith(\"SELECT\"):\n",
    "        pass\n",
    "    else:\n",
    "        db_connection.commit() "
   ]
  },
  {
   "cell_type": "code",
   "execution_count": 4,
   "metadata": {},
   "outputs": [
    {
     "name": "stdout",
     "output_type": "stream",
     "text": [
      "1\n"
     ]
    }
   ],
   "source": [
    "query = 'SELECT username, last_refresh FROM user_sessions WHERE userKey = %s'\n",
    "execute_query(query, ('f3082fc9-bc97-4d91-b600-b860e7cf609c',))\n",
    "res = db_cursor.fetchone()\n",
    "if res:\n",
    "    print(1)\n",
    "else:\n",
    "    print(0)"
   ]
  },
  {
   "cell_type": "code",
   "execution_count": 18,
   "metadata": {},
   "outputs": [
    {
     "data": {
      "text/plain": [
       "NoneType"
      ]
     },
     "execution_count": 18,
     "metadata": {},
     "output_type": "execute_result"
    }
   ],
   "source": [
    "type(res)"
   ]
  },
  {
   "cell_type": "code",
   "execution_count": 13,
   "metadata": {},
   "outputs": [],
   "source": [
    "if res:\n",
    "    print(1)"
   ]
  }
 ],
 "metadata": {
  "kernelspec": {
   "display_name": "Python 3",
   "language": "python",
   "name": "python3"
  },
  "language_info": {
   "codemirror_mode": {
    "name": "ipython",
    "version": 3
   },
   "file_extension": ".py",
   "mimetype": "text/x-python",
   "name": "python",
   "nbconvert_exporter": "python",
   "pygments_lexer": "ipython3",
   "version": "3.11.3"
  }
 },
 "nbformat": 4,
 "nbformat_minor": 2
}

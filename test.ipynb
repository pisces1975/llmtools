{
 "cells": [
  {
   "cell_type": "code",
   "execution_count": 8,
   "metadata": {},
   "outputs": [
    {
     "name": "stdout",
     "output_type": "stream",
     "text": [
      "\u001b[32m2024-03-25 15:03:17.604\u001b[0m | \u001b[34m\u001b[1mDEBUG   \u001b[0m | \u001b[36m__main__\u001b[0m:\u001b[36m<module>\u001b[0m:\u001b[36m23\u001b[0m - \u001b[34m\u001b[1m{'admin': {'password': '123456'}, 'zz': {'password': 'zz'}, 'xyz': {'password': 'abc'}}\u001b[0m\n"
     ]
    }
   ],
   "source": [
    "import uuid\n",
    "from flask import Flask, request, jsonify\n",
    "from utilities import logger\n",
    "from flask_cors import CORS\n",
    "import sys\n",
    "from xinference.client import Client\n",
    "\n",
    "\n",
    "mylogger = logger.Logger(name='llmtool', debug=True).logger  \n",
    "LOG = logger.Logger(name='searchallx', debug=True).logger\n",
    "# app = Flask(__name__)  \n",
    "# CORS(app)\n",
    "\n",
    "# 使用字典模拟用户存储，实际项目中应使用数据库\n",
    "users_db = {\n",
    "    \"admin\": {\"password\": \"123456\"},\n",
    "    'zz': {'password': 'zz'},\n",
    "    'xyz': {'password': 'abc'}\n",
    "}\n",
    "\n",
    "# 存储登录成功的用户session数据\n",
    "sessions = {}\n",
    "LOG.debug(users_db)\n"
   ]
  },
  {
   "cell_type": "code",
   "execution_count": null,
   "metadata": {},
   "outputs": [],
   "source": [
    "x_addr = 'http://10.101.9.50:9998'\n",
    "mylogger.debug(f\"Start to connect xinference server at {x_addr}\")\n",
    "try:\n",
    "    client = Client(x_addr)    \n",
    "    model_uid = client.launch_model(model_name=\"bge-large-zh-v1.5\", model_type=\"embedding\")    \n",
    "    model = client.get_model(model_uid)\n",
    "except Exception as e:\n",
    "    mylogger.error(f\"Something goes wrong: {e}\")   \n",
    "def create_embedding_bge(sentence):\n",
    "    result = model.create_embedding(sentence)\n",
    "    embedding = result['data'][0]['embedding']\n",
    "    # LOG.debug(f\"length of embedding {len(embedding)}, {embedding[:5]}\")\n",
    "    return embedding"
   ]
  },
  {
   "cell_type": "code",
   "execution_count": 2,
   "metadata": {},
   "outputs": [],
   "source": [
    "vec = create_embedding_bge('test sentence')"
   ]
  },
  {
   "cell_type": "code",
   "execution_count": 7,
   "metadata": {},
   "outputs": [
    {
     "name": "stdout",
     "output_type": "stream",
     "text": [
      "\u001b[32m2024-03-22 23:14:21.290\u001b[0m | \u001b[34m\u001b[1mDEBUG   \u001b[0m | \u001b[36m__main__\u001b[0m:\u001b[36m<module>\u001b[0m:\u001b[36m16\u001b[0m - \u001b[34m\u001b[1mfloat_list 和 vec 相同\u001b[0m\n"
     ]
    }
   ],
   "source": [
    "import requests\n",
    "\n",
    "# 调用生成列表的服务\n",
    "question = '可以根据需要修改question参数'  # 可以根据需要修改question参数\n",
    "response = requests.post('http://127.0.0.1:5111/genvec', json={'question': question})\n",
    "vec = create_embedding_bge(question)\n",
    "if response.status_code == 200:\n",
    "    float_list = response.json()\n",
    "    # 假设 float_list 和 vec 是之前获取的列表\n",
    "# 检查类型是否都是 list\n",
    "    if isinstance(float_list, list) and isinstance(vec, list):\n",
    "        # 检查长度是否相同\n",
    "        if len(float_list) == len(vec):\n",
    "            # 逐个比较元素是否一致\n",
    "            if all(a == b for a, b in zip(float_list, vec)):\n",
    "                mylogger.debug(\"float_list 和 vec 相同\")\n",
    "            else:\n",
    "                mylogger.error(\"float_list 和 vec 不同\")\n",
    "        else:\n",
    "            mylogger.error(\"float_list 和 vec 长度不同\")\n",
    "    else:\n",
    "        mylogger.error(\"float_list 和 vec 不是列表类型\")\n",
    "        # 判断列表长度\n",
    "        mylogger.debug(f\"Length of the list: {len(float_list)}\")    \n",
    "    \n",
    "else:\n",
    "    mylogger.error(\"Failed to retrieve the list.\")"
   ]
  },
  {
   "cell_type": "code",
   "execution_count": 3,
   "metadata": {},
   "outputs": [
    {
     "name": "stdout",
     "output_type": "stream",
     "text": [
      "\u001b[32m2024-03-23 00:17:17.569\u001b[0m | \u001b[34m\u001b[1mDEBUG   \u001b[0m | \u001b[36m__main__\u001b[0m:\u001b[36m<module>\u001b[0m:\u001b[36m12\u001b[0m - \u001b[34m\u001b[1mSuccessfully connect mysql database\u001b[0m\n",
      "\u001b[32m2024-03-23 00:17:17.571\u001b[0m | \u001b[34m\u001b[1mDEBUG   \u001b[0m | \u001b[36m__main__\u001b[0m:\u001b[36m<module>\u001b[0m:\u001b[36m14\u001b[0m - \u001b[34m\u001b[1m{'host': '10.101.9.50', 'user': 'root', 'password': 'newpass', 'database': 'codebase'}\u001b[0m\n"
     ]
    }
   ],
   "source": [
    "import mysql.connector\n",
    "mysql_db_config = {\n",
    "    \"host\": \"10.101.9.50\",\n",
    "    \"user\": 'root',\n",
    "    \"password\": 'newpass',\n",
    "    \"database\": 'codebase'\n",
    "}\n",
    "\n",
    "db_connection = mysql.connector.connect(**mysql_db_config)\n",
    "db_cursor = db_connection.cursor()\n",
    "if db_connection.is_connected():\n",
    "    mylogger.debug(\"Successfully connect mysql database\")\n",
    "\n",
    "mylogger.debug(mysql_db_config)\n",
    "def execute_query(query, params=()):\n",
    "    db_cursor.execute(query, params)\n",
    "    if query.strip().startswith(\"SELECT\"):\n",
    "        pass\n",
    "    else:\n",
    "        db_connection.commit() "
   ]
  },
  {
   "cell_type": "code",
   "execution_count": 4,
   "metadata": {},
   "outputs": [
    {
     "name": "stdout",
     "output_type": "stream",
     "text": [
      "1\n"
     ]
    }
   ],
   "source": [
    "query = 'SELECT username, last_refresh FROM user_sessions WHERE userKey = %s'\n",
    "execute_query(query, ('f3082fc9-bc97-4d91-b600-b860e7cf609c',))\n",
    "res = db_cursor.fetchone()\n",
    "if res:\n",
    "    print(1)\n",
    "else:\n",
    "    print(0)"
   ]
  },
  {
   "cell_type": "code",
   "execution_count": 1,
   "metadata": {},
   "outputs": [
    {
     "name": "stdout",
     "output_type": "stream",
     "text": [
      "Looking in indexes: https://pypi.tuna.tsinghua.edu.cn/simple\n",
      "Collecting ldap3\n",
      "  Downloading https://pypi.tuna.tsinghua.edu.cn/packages/4e/f6/71d6ec9f18da0b2201287ce9db6afb1a1f637dedb3f0703409558981c723/ldap3-2.9.1-py2.py3-none-any.whl (432 kB)\n",
      "                                              0.0/432.2 kB ? eta -:--:--\n",
      "     ------------------------------------- 432.2/432.2 kB 13.6 MB/s eta 0:00:00\n",
      "Requirement already satisfied: pyasn1>=0.4.6 in c:\\anaconda3\\anaconda\\lib\\site-packages (from ldap3) (0.4.8)\n",
      "Installing collected packages: ldap3\n",
      "Successfully installed ldap3-2.9.1\n"
     ]
    }
   ],
   "source": [
    "! pip install ldap3"
   ]
  },
  {
   "cell_type": "code",
   "execution_count": 13,
   "metadata": {},
   "outputs": [
    {
     "name": "stdout",
     "output_type": "stream",
     "text": [
      "Authentication successful\n"
     ]
    }
   ],
   "source": [
    "from ldap3 import Server, Connection, ALL\n",
    "from ldap3.core.exceptions import LDAPBindError \n",
    "LDAP_SERVER = 'ldap://192.168.0.58:389'\n",
    "LDAP_SEARCH_BASE = 'ou=NSTC,dc=ninestar'\n",
    "\n",
    "def authenticate(username, password):\n",
    "    server = Server(LDAP_SERVER, get_info=ALL)\n",
    "    user_dn = f\"cn={username},{LDAP_SEARCH_BASE}\"\n",
    "    try:\n",
    "        with Connection(server, user=user_dn, password=password, auto_bind=True):\n",
    "            return True\n",
    "    except LDAPBindError as e:\n",
    "        print(e)\n",
    "        return False\n",
    "    except Exception as e:\n",
    "        print(f\"An error occurred: {e}\")\n",
    "        return False\n",
    "    \n",
    "# Define the LDAP server\n",
    "server = Server(LDAP_SERVER, get_info=ALL)\n",
    "username = 'ai-ldap'\n",
    "password = 'Nstc@0326'\n",
    "\n",
    "if authenticate(username, password):\n",
    "    print('Authentication successful')\n",
    "else:\n",
    "    print('Authentication failed')\n",
    "\n"
   ]
  },
  {
   "cell_type": "code",
   "execution_count": 20,
   "metadata": {},
   "outputs": [
    {
     "data": {
      "text/plain": [
       "True"
      ]
     },
     "execution_count": 20,
     "metadata": {},
     "output_type": "execute_result"
    }
   ],
   "source": [
    "from ldap3 import Server, Connection, ALL\n",
    "\n",
    "# LDAP服务器配置\n",
    "LDAP_SERVER = '192.168.0.58:389'\n",
    "LDAP_USER_DN = 'ou=NSTC,dc=ninestar'  # 用户所在DN\n",
    "LDAP_ADMIN_DN = 'ou=NSTC,dc=ninestar'  # 管理员DN或具有查询权限的DN\n",
    "LDAP_ADMIN_PASSWORD = 'Nstc@0326'\n",
    "\n",
    "# 用户输入的用户名和密码\n",
    "admin_username = 'ai-ldap'\n",
    "\n",
    "# 创建Server对象\n",
    "server = Server(LDAP_SERVER, get_info=ALL)\n",
    "\n",
    "# 使用管理员凭证建立连接（根据实际情况，可能可以直接用普通用户DN和密码进行绑定）\n",
    "admin_dn = f'cn={admin_username},{LDAP_ADMIN_DN}'\n",
    "connection = Connection(server, user=admin_dn, password=LDAP_ADMIN_PASSWORD, auto_bind=True)\n",
    "\n",
    "username = 'zhouzhen'\n",
    "password = 'Nstc0727'\n",
    "# 构建要查找的用户DN\n",
    "user_dn = f\"uid={username},{LDAP_USER_DN}\"\n",
    "\n",
    "# # 尝试使用用户输入的凭证进行绑定\n",
    "# conn.bind(user=user_dn, password=password)\n",
    "\n",
    "# if conn.bind():\n",
    "#     print('用户认证成功')\n",
    "# else:\n",
    "#     print('用户名或密码错误')\n",
    "\n",
    "search_filter = f'(cn={username})'\n",
    "#search_base = 'ou=Groups,dc=example,dc=com'\n",
    "search_base = LDAP_USER_DN\n",
    "connection.search(search_base, search_filter, attributes=['memberOf'])\n",
    "for entry in connection.entries:\n",
    "        if 'memberOf' in entry and 'cn=Admins,ou=Groups,dc=example,dc=com' in entry.memberOf.values:\n",
    "            print(\"User is authorized as an admin.\")\n",
    "# 记得关闭连接\n",
    "conn.unbind()"
   ]
  }
 ],
 "metadata": {
  "kernelspec": {
   "display_name": "Python 3",
   "language": "python",
   "name": "python3"
  },
  "language_info": {
   "codemirror_mode": {
    "name": "ipython",
    "version": 3
   },
   "file_extension": ".py",
   "mimetype": "text/x-python",
   "name": "python",
   "nbconvert_exporter": "python",
   "pygments_lexer": "ipython3",
   "version": "3.11.3"
  }
 },
 "nbformat": 4,
 "nbformat_minor": 2
}

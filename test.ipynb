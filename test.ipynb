{
 "cells": [
  {
   "cell_type": "code",
   "execution_count": 1,
   "metadata": {},
   "outputs": [
    {
     "name": "stdout",
     "output_type": "stream",
     "text": [
      "\u001b[32m2024-03-22 22:59:27.376\u001b[0m | \u001b[34m\u001b[1mDEBUG   \u001b[0m | \u001b[36m__main__\u001b[0m:\u001b[36m<module>\u001b[0m:\u001b[36m23\u001b[0m - \u001b[34m\u001b[1mStart to connect xinference server at http://10.101.9.50:9998\u001b[0m\n"
     ]
    }
   ],
   "source": [
    "import uuid\n",
    "from flask import Flask, request, jsonify\n",
    "from utilities import logger\n",
    "from flask_cors import CORS\n",
    "import sys\n",
    "from xinference.client import Client\n",
    "\n",
    "mylogger = logger.Logger(name='llmtool', debug=True).logger  \n",
    "# app = Flask(__name__)  \n",
    "# CORS(app)\n",
    "\n",
    "# 使用字典模拟用户存储，实际项目中应使用数据库\n",
    "users_db = {\n",
    "    \"admin\": {\"password\": \"123456\"},\n",
    "    'zz': {'password': 'zz'},\n",
    "    'xyz': {'password': 'abc'}\n",
    "}\n",
    "\n",
    "# 存储登录成功的用户session数据\n",
    "sessions = {}\n",
    "\n",
    "x_addr = 'http://10.101.9.50:9998'\n",
    "mylogger.debug(f\"Start to connect xinference server at {x_addr}\")\n",
    "try:\n",
    "    client = Client(x_addr)    \n",
    "    model_uid = client.launch_model(model_name=\"bge-large-zh-v1.5\", model_type=\"embedding\")    \n",
    "    model = client.get_model(model_uid)\n",
    "except Exception as e:\n",
    "    mylogger.error(f\"Something goes wrong: {e}\")   \n",
    "def create_embedding_bge(sentence):\n",
    "    result = model.create_embedding(sentence)\n",
    "    embedding = result['data'][0]['embedding']\n",
    "    # LOG.debug(f\"length of embedding {len(embedding)}, {embedding[:5]}\")\n",
    "    return embedding"
   ]
  },
  {
   "cell_type": "code",
   "execution_count": 2,
   "metadata": {},
   "outputs": [],
   "source": [
    "vec = create_embedding_bge('test sentence')"
   ]
  },
  {
   "cell_type": "code",
   "execution_count": 6,
   "metadata": {},
   "outputs": [
    {
     "name": "stdout",
     "output_type": "stream",
     "text": [
      "\u001b[32m2024-03-22 23:08:26.596\u001b[0m | \u001b[34m\u001b[1mDEBUG   \u001b[0m | \u001b[36m__main__\u001b[0m:\u001b[36m<module>\u001b[0m:\u001b[36m10\u001b[0m - \u001b[34m\u001b[1mLength of the list: 1024\u001b[0m\n",
      "\u001b[32m2024-03-22 23:08:26.599\u001b[0m | \u001b[34m\u001b[1mDEBUG   \u001b[0m | \u001b[36m__main__\u001b[0m:\u001b[36m<module>\u001b[0m:\u001b[36m13\u001b[0m - \u001b[34m\u001b[1mFirst ten elements:\u001b[0m\n",
      "\u001b[32m2024-03-22 23:08:26.602\u001b[0m | \u001b[34m\u001b[1mDEBUG   \u001b[0m | \u001b[36m__main__\u001b[0m:\u001b[36m<module>\u001b[0m:\u001b[36m14\u001b[0m - \u001b[34m\u001b[1m[0.01, 0.02, 0.03, 0.04, 0.05, 0.06, 0.07, 0.08, 0.09, 0.1]\u001b[0m\n",
      "\u001b[32m2024-03-22 23:08:26.604\u001b[0m | \u001b[34m\u001b[1mDEBUG   \u001b[0m | \u001b[36m__main__\u001b[0m:\u001b[36m<module>\u001b[0m:\u001b[36m17\u001b[0m - \u001b[34m\u001b[1mLast ten elements:\u001b[0m\n",
      "\u001b[32m2024-03-22 23:08:26.605\u001b[0m | \u001b[34m\u001b[1mDEBUG   \u001b[0m | \u001b[36m__main__\u001b[0m:\u001b[36m<module>\u001b[0m:\u001b[36m18\u001b[0m - \u001b[34m\u001b[1m[10.15, 10.16, 10.17, 10.18, 10.19, 10.2, 10.21, 10.22, 10.23, 10.24]\u001b[0m\n"
     ]
    }
   ],
   "source": [
    "import requests\n",
    "\n",
    "# 调用生成列表的服务\n",
    "question = '可以根据需要修改question参数'  # 可以根据需要修改question参数\n",
    "response = requests.post('http://127.0.0.1:5111/genvec', json={'question': question})\n",
    "vec = create_embedding_bge(question)\n",
    "if response.status_code == 200:\n",
    "    float_list = response.json()\n",
    "    # 假设 float_list 和 vec 是之前获取的列表\n",
    "# 检查类型是否都是 list\n",
    "    if isinstance(float_list, list) and isinstance(vec, list):\n",
    "        # 检查长度是否相同\n",
    "        if len(float_list) == len(vec):\n",
    "            # 逐个比较元素是否一致\n",
    "            if all(a == b for a, b in zip(float_list, vec)):\n",
    "                mylogger.debug(\"float_list 和 vec 相同\")\n",
    "            else:\n",
    "                mylogger.error(\"float_list 和 vec 不同\")\n",
    "        else:\n",
    "            mylogger.error(\"float_list 和 vec 长度不同\")\n",
    "    else:\n",
    "        mylogger.error(\"float_list 和 vec 不是列表类型\")\n",
    "        # 判断列表长度\n",
    "        mylogger.debug(f\"Length of the list: {len(float_list)}\")    \n",
    "    \n",
    "else:\n",
    "    mylogger.error(\"Failed to retrieve the list.\")"
   ]
  }
 ],
 "metadata": {
  "kernelspec": {
   "display_name": "Python 3",
   "language": "python",
   "name": "python3"
  },
  "language_info": {
   "codemirror_mode": {
    "name": "ipython",
    "version": 3
   },
   "file_extension": ".py",
   "mimetype": "text/x-python",
   "name": "python",
   "nbconvert_exporter": "python",
   "pygments_lexer": "ipython3",
   "version": "3.11.3"
  }
 },
 "nbformat": 4,
 "nbformat_minor": 2
}
